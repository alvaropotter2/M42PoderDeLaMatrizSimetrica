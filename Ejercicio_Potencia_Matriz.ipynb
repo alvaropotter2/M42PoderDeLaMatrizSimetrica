{
 "cells": [
  {
   "cell_type": "code",
   "execution_count": null,
   "metadata": {
    "vscode": {
     "languageId": "plaintext"
    }
   },
   "outputs": [],
   "source": [
    "%pip install numpy\n",
    "import numpy as np"
   ]
  },
  {
   "cell_type": "code",
   "execution_count": null,
   "metadata": {
    "vscode": {
     "languageId": "plaintext"
    }
   },
   "outputs": [],
   "source": [
    "# Función para imprimir matrices de manera amigable\n",
    "def print_matrix(matrix):\n",
    "    for row in matrix:\n",
    "        print(\" \".join(f\"{elem:.2f}\" for elem in row))\n",
    "\n",
    "# Exponenciación rápida de matrices\n",
    "def matrix_exponentiation(matrix, k):\n",
    "    n = len(matrix)\n",
    "    result = np.eye(n)  # Matriz identidad de tamaño n\n",
    "    base = matrix.copy()\n",
    "\n",
    "    while k > 0:\n",
    "        if k % 2 == 1:\n",
    "            result = np.dot(result, base)  # Multiplica por la base si el exponente es impar\n",
    "        base = np.dot(base, base)  # Eleva la base al cuadrado\n",
    "        k //= 2\n",
    "\n",
    "    return result\n",
    "\n"
   ]
  },
  {
   "cell_type": "code",
   "execution_count": null,
   "metadata": {
    "vscode": {
     "languageId": "plaintext"
    }
   },
   "outputs": [],
   "source": [
    "# Lectura de entrada del usuario\n",
    "def main():\n",
    "    n = int(input(\"Ingrese la dimensión de la matriz (2 <= n <= 10): \"))\n",
    "    if not (2 <= n <= 10):\n",
    "        raise ValueError(\"La dimensión de la matriz debe estar entre 2 y 10.\")\n",
    "\n",
    "    print(\"Ingrese la matriz simétrica (elementos separados por espacios):\")\n",
    "    A = []\n",
    "    for _ in range(n):\n",
    "        row = list(map(float, input().split()))\n",
    "        A.append(row)\n",
    "    A = np.array(A)\n",
    "\n",
    "    # Verificar que la matriz sea simétrica\n",
    "    if not np.allclose(A, A.T):\n",
    "        raise ValueError(\"La matriz no es simétrica.\")\n",
    "\n",
    "    k = int(input(\"Ingrese la potencia a la que desea elevar la matriz (1 <= k <= 1000): \"))\n",
    "    if not (1 <= k <= 1000):\n",
    "        raise ValueError(\"La potencia debe estar entre 1 y 1000.\")\n",
    "\n",
    "    # Calcular la matriz A^k\n",
    "    result = matrix_exponentiation(A, k)\n",
    "\n",
    "    # Redondear los resultados a 2 decimales\n",
    "    result = np.round(result, 2)\n",
    "\n",
    "    print(\"\\nLa matriz elevada a la potencia k es:\")\n",
    "    print_matrix(result)\n",
    "\n",
    "if __name__ == \"__main__\":\n",
    "    main()"
   ]
  },
  {
   "cell_type": "code",
   "execution_count": null,
   "metadata": {
    "vscode": {
     "languageId": "plaintext"
    }
   },
   "outputs": [],
   "source": []
  }
 ],
 "metadata": {
  "language_info": {
   "name": "python"
  }
 },
 "nbformat": 4,
 "nbformat_minor": 2
}
